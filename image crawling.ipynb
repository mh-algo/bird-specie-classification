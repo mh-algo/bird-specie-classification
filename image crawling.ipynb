{
 "cells": [
  {
   "cell_type": "code",
   "execution_count": 1,
   "id": "0915b5c1",
   "metadata": {},
   "outputs": [],
   "source": [
    "from selenium import webdriver\n",
    "import time\n",
    "from selenium.webdriver.common.by import By"
   ]
  },
  {
   "cell_type": "code",
   "execution_count": 2,
   "id": "88cb0d3b",
   "metadata": {},
   "outputs": [],
   "source": [
    "def selenium_scroll_option():\n",
    "    SCROLL_PAUSE_SEC = 3\n",
    "  \n",
    "    # 스크롤 높이 가져옴\n",
    "    last_height = driver.execute_script(\"return document.body.scrollHeight\")\n",
    "  \n",
    "    while True:\n",
    "        # 끝까지 스크롤 다운\n",
    "        driver.execute_script(\"window.scrollTo(0, document.body.scrollHeight);\")\n",
    "\n",
    "        # 1초 대기\n",
    "        time.sleep(SCROLL_PAUSE_SEC)\n",
    "\n",
    "        # 스크롤 다운 후 스크롤 높이 다시 가져옴\n",
    "        new_height = driver.execute_script(\"return document.body.scrollHeight\")\n",
    "\n",
    "        if new_height == last_height:\n",
    "            break\n",
    "        last_height = new_height"
   ]
  },
  {
   "cell_type": "code",
   "execution_count": 3,
   "id": "c24ce7e6",
   "metadata": {},
   "outputs": [],
   "source": [
    "baikal_teal = './Baikal teal/'   # 가창오리\n",
    "bean_goose = './Bean goose/'    # 큰기러기\n",
    "vega_gull = './Vega gull/'    # 재갈매기\n",
    "common_shelduck = './Common shelduck/'    # 혹부리오리\n",
    "eurasian_tree_sparrow = './Eurasian tree sparrow/'    # 참새"
   ]
  },
  {
   "cell_type": "code",
   "execution_count": 115,
   "id": "f083a31c",
   "metadata": {},
   "outputs": [
    {
     "name": "stdout",
     "output_type": "stream",
     "text": [
      "검색할 새 이름 입력: Anas formosa\n"
     ]
    }
   ],
   "source": [
    "search_bird = input('검색할 새 이름 입력: ')    # 찾고자 하는 새 검색\n",
    "save_dir = baikal_teal    # 저장하고자 하는 위치"
   ]
  },
  {
   "cell_type": "code",
   "execution_count": 116,
   "id": "0bce23c2",
   "metadata": {},
   "outputs": [
    {
     "name": "stderr",
     "output_type": "stream",
     "text": [
      "C:\\Users\\User\\AppData\\Local\\Temp\\ipykernel_6656\\1003289451.py:1: DeprecationWarning: executable_path has been deprecated, please pass in a Service object\n",
      "  driver = webdriver.Chrome(r'C:\\Users\\User\\Desktop\\학교\\캡스톤디자인\\bird specie classification\\image crawling\\chromedriver.exe')\n"
     ]
    }
   ],
   "source": [
    "driver = webdriver.Chrome(r'C:\\Users\\User\\Desktop\\학교\\캡스톤디자인\\bird specie classification\\image crawling\\chromedriver.exe')\n",
    "driver.get('http://www.google.co.kr/imghp?hl=ko')\n",
    "driver.find_element('xpath', '/html/body/div[1]/div[3]/form/div[1]/div[1]/div[1]/div/div[2]/input').send_keys(search_bird)\n",
    "driver.find_element('xpath', '/html/body/div[1]/div[3]/form/div[1]/div[1]/div[1]/button').click()"
   ]
  },
  {
   "cell_type": "code",
   "execution_count": 117,
   "id": "08970dd8",
   "metadata": {},
   "outputs": [],
   "source": [
    "selenium_scroll_option()\n",
    "driver.find_element('xpath', '//*[@id=\"islmp\"]/div/div/div/div/div[1]/div[2]/div[2]/input').click()\n",
    "selenium_scroll_option()"
   ]
  },
  {
   "cell_type": "code",
   "execution_count": 118,
   "id": "af9eea13",
   "metadata": {},
   "outputs": [],
   "source": [
    "from urllib.request import urlopen, urlretrieve\n",
    "from bs4 import BeautifulSoup\n",
    "\n",
    "# selenium으로 띄운 페이지를 크롤링\n",
    "html = driver.page_source\n",
    "soup = BeautifulSoup(html, 'html.parser')\n",
    "\n",
    "tmp = soup.find('div', {'class': 'islrc'})\n",
    "images = tmp.find_all('div', {'class':'bRMDJf islir'})"
   ]
  },
  {
   "cell_type": "code",
   "execution_count": 106,
   "id": "0b2bef90",
   "metadata": {},
   "outputs": [],
   "source": [
    "images_url = []"
   ]
  },
  {
   "cell_type": "code",
   "execution_count": 119,
   "id": "187b7d38",
   "metadata": {},
   "outputs": [],
   "source": [
    "for i in images:\n",
    "    try:\n",
    "        images_url.append(i.find('img')['src'])\n",
    "    except:\n",
    "        images_url.append(i.find('img')['data-src'])\n",
    "driver.close()"
   ]
  },
  {
   "cell_type": "code",
   "execution_count": 120,
   "id": "fa407fc5",
   "metadata": {},
   "outputs": [
    {
     "name": "stdout",
     "output_type": "stream",
     "text": [
      "1930\n"
     ]
    }
   ],
   "source": [
    "print(len(images_url))"
   ]
  },
  {
   "cell_type": "code",
   "execution_count": 121,
   "id": "a1e15fe5",
   "metadata": {},
   "outputs": [
    {
     "name": "stdout",
     "output_type": "stream",
     "text": [
      "전체 이미지: 1930\n",
      "중복 제거 후 이미지: 1842\n"
     ]
    }
   ],
   "source": [
    "import numpy as np\n",
    "print('전체 이미지:', len(images_url))\n",
    "images_url = list(np.unique(images_url))\n",
    "print('중복 제거 후 이미지:', len(images_url))"
   ]
  },
  {
   "cell_type": "code",
   "execution_count": 122,
   "id": "3c7f55e3",
   "metadata": {},
   "outputs": [
    {
     "data": {
      "application/vnd.jupyter.widget-view+json": {
       "model_id": "8e5dae35634f4798aeacac3ac7644702",
       "version_major": 2,
       "version_minor": 0
      },
      "text/plain": [
       "  0%|          | 0/1842 [00:00<?, ?it/s]"
      ]
     },
     "metadata": {},
     "output_type": "display_data"
    }
   ],
   "source": [
    "from tqdm.notebook import tqdm\n",
    "\n",
    "for i, url in enumerate(tqdm(images_url)):\n",
    "    urlretrieve(url, save_dir + str(i) + '.jpg')"
   ]
  },
  {
   "cell_type": "code",
   "execution_count": null,
   "id": "36fa4a38",
   "metadata": {},
   "outputs": [],
   "source": []
  }
 ],
 "metadata": {
  "kernelspec": {
   "display_name": "Python 3 (ipykernel)",
   "language": "python",
   "name": "python3"
  },
  "language_info": {
   "codemirror_mode": {
    "name": "ipython",
    "version": 3
   },
   "file_extension": ".py",
   "mimetype": "text/x-python",
   "name": "python",
   "nbconvert_exporter": "python",
   "pygments_lexer": "ipython3",
   "version": "3.9.12"
  }
 },
 "nbformat": 4,
 "nbformat_minor": 5
}
