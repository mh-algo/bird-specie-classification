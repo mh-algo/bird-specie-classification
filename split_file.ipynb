{
 "cells": [
  {
   "cell_type": "code",
   "execution_count": 12,
   "id": "0dcea4ca",
   "metadata": {},
   "outputs": [],
   "source": [
    "import os\n",
    "import shutil\n",
    "\n",
    "path = './bird image/'"
   ]
  },
  {
   "cell_type": "code",
   "execution_count": 13,
   "id": "5549db15",
   "metadata": {},
   "outputs": [],
   "source": [
    "def rename(path):\n",
    "    files = os.listdir(path)\n",
    "    files.sort(key = lambda x:int(x.split('.')[0]))\n",
    "    for i, f in enumerate(files):\n",
    "        os.rename(path + f, path + str(i).zfill(4) + '.jpg')"
   ]
  },
  {
   "cell_type": "code",
   "execution_count": 14,
   "id": "fbaee42e",
   "metadata": {},
   "outputs": [],
   "source": [
    "# train:valid:test = 6:2:2\n",
    "directory = os.listdir(path)\n",
    "os.mkdir(path+'valid')\n",
    "os.mkdir(path+'test')\n",
    "os.mkdir(path+'train')\n",
    "\n",
    "for d in directory:\n",
    "    os.makedirs(path+'test/'+d)\n",
    "    os.makedirs(path+'valid/'+d)\n",
    "    os.makedirs(path+'train/'+d)\n",
    "\n",
    "    images = os.listdir(path+d)\n",
    "    cnt = len(images)//10\n",
    "    for i, image in enumerate(images):\n",
    "        if i < cnt*2:\n",
    "            shutil.copy2(path+d+'/'+image, path+'test/'+d)\n",
    "        elif cnt*2 <= i < cnt*4:\n",
    "            shutil.copy2(path+d+'/'+image, path+'valid/'+d)\n",
    "        else:\n",
    "            shutil.copy2(path+d+'/'+image, path+'train/'+d)\n",
    "    rename(path+'test/'+d+'/')\n",
    "    rename(path+'valid/'+d+'/')\n",
    "    rename(path+'train/'+d+'/')"
   ]
  },
  {
   "cell_type": "code",
   "execution_count": null,
   "id": "71dad322",
   "metadata": {},
   "outputs": [],
   "source": []
  }
 ],
 "metadata": {
  "kernelspec": {
   "display_name": "Python 3 (ipykernel)",
   "language": "python",
   "name": "python3"
  },
  "language_info": {
   "codemirror_mode": {
    "name": "ipython",
    "version": 3
   },
   "file_extension": ".py",
   "mimetype": "text/x-python",
   "name": "python",
   "nbconvert_exporter": "python",
   "pygments_lexer": "ipython3",
   "version": "3.9.12"
  }
 },
 "nbformat": 4,
 "nbformat_minor": 5
}
