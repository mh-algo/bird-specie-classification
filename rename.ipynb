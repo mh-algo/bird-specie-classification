{
 "cells": [
  {
   "cell_type": "code",
   "execution_count": 11,
   "id": "f5298c6b",
   "metadata": {},
   "outputs": [],
   "source": [
    "import os\n",
    "\n",
    "path = './image crawling/Eurasian tree sparrow/'"
   ]
  },
  {
   "cell_type": "code",
   "execution_count": 15,
   "id": "613ccdc1",
   "metadata": {},
   "outputs": [],
   "source": [
    "files = os.listdir(path)\n",
    "for i, f in enumerate(files):\n",
    "    os.rename(path + f, path + '0' + str(i) + '.jpg')"
   ]
  },
  {
   "cell_type": "code",
   "execution_count": 16,
   "id": "fd3203cc",
   "metadata": {},
   "outputs": [],
   "source": [
    "files = os.listdir(path)\n",
    "for i, f in enumerate(files):\n",
    "    os.rename(path + f, path + str(i) + '.jpg')"
   ]
  },
  {
   "cell_type": "code",
   "execution_count": null,
   "id": "496787ee",
   "metadata": {},
   "outputs": [],
   "source": []
  }
 ],
 "metadata": {
  "kernelspec": {
   "display_name": "Python 3 (ipykernel)",
   "language": "python",
   "name": "python3"
  },
  "language_info": {
   "codemirror_mode": {
    "name": "ipython",
    "version": 3
   },
   "file_extension": ".py",
   "mimetype": "text/x-python",
   "name": "python",
   "nbconvert_exporter": "python",
   "pygments_lexer": "ipython3",
   "version": "3.9.12"
  }
 },
 "nbformat": 4,
 "nbformat_minor": 5
}
