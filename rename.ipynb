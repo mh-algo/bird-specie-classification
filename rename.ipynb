{
 "cells": [
  {
   "cell_type": "code",
   "execution_count": 17,
   "id": "f5298c6b",
   "metadata": {},
   "outputs": [],
   "source": [
    "import os\n",
    "\n",
    "path = './image crawling/Vega gull/'"
   ]
  },
  {
   "cell_type": "code",
   "execution_count": 18,
   "id": "6522a188",
   "metadata": {},
   "outputs": [],
   "source": [
    "files = os.listdir(path)\n",
    "files.sort(key = lambda x:int(x.split('.')[0]))\n",
    "for i, f in enumerate(files):\n",
    "    os.rename(path + f, path + str(i).zfill(4) + '.jpg')"
   ]
  },
  {
   "cell_type": "code",
   "execution_count": null,
   "id": "496787ee",
   "metadata": {},
   "outputs": [],
   "source": []
  }
 ],
 "metadata": {
  "kernelspec": {
   "display_name": "Python 3 (ipykernel)",
   "language": "python",
   "name": "python3"
  },
  "language_info": {
   "codemirror_mode": {
    "name": "ipython",
    "version": 3
   },
   "file_extension": ".py",
   "mimetype": "text/x-python",
   "name": "python",
   "nbconvert_exporter": "python",
   "pygments_lexer": "ipython3",
   "version": "3.9.12"
  }
 },
 "nbformat": 4,
 "nbformat_minor": 5
}
