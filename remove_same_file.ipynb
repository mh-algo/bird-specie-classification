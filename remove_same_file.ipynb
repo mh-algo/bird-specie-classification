{
 "cells": [
  {
   "cell_type": "code",
   "execution_count": 4,
   "id": "473e412a",
   "metadata": {},
   "outputs": [],
   "source": [
    "import os\n",
    "import hashlib"
   ]
  },
  {
   "cell_type": "code",
   "execution_count": 17,
   "id": "d9d90061",
   "metadata": {},
   "outputs": [],
   "source": [
    "path = './image crawling/Common shelduck/'\n",
    "files = os.listdir(path)\n",
    "files.sort(key = lambda x:int(x.split('.')[0]))"
   ]
  },
  {
   "cell_type": "code",
   "execution_count": 18,
   "id": "9c60f5cd",
   "metadata": {},
   "outputs": [
    {
     "name": "stdout",
     "output_type": "stream",
     "text": [
      "remove file: 5028.jpg\n",
      "remove file: 5064.jpg\n",
      "remove file: 5156.jpg\n",
      "remove file: 5326.jpg\n",
      "remove file: 5422.jpg\n",
      "remove file: 5450.jpg\n",
      "remove file: 5462.jpg\n",
      "remove file: 5586.jpg\n",
      "remove file: 5587.jpg\n",
      "remove file: 5638.jpg\n",
      "\n",
      "원래 이미지 수:  1470\n",
      "삭제 후 이미지 수:  1460\n"
     ]
    }
   ],
   "source": [
    "hash_set = set()\n",
    "for file in files:\n",
    "    f = open(path+file, 'rb')\n",
    "    sha_256 = hashlib.sha256(f.read()).hexdigest()\n",
    "    f.close()\n",
    "    if sha_256 not in hash_set:\n",
    "        hash_set.add(sha_256)\n",
    "    else:\n",
    "        os.remove(path+file)\n",
    "        print(f'remove file: {file}')\n",
    "print()\n",
    "print('원래 이미지 수: ', len(files))\n",
    "print('삭제 후 이미지 수: ', len(os.listdir(path)))"
   ]
  },
  {
   "cell_type": "code",
   "execution_count": null,
   "id": "38d48590",
   "metadata": {},
   "outputs": [],
   "source": []
  }
 ],
 "metadata": {
  "kernelspec": {
   "display_name": "Python 3 (ipykernel)",
   "language": "python",
   "name": "python3"
  },
  "language_info": {
   "codemirror_mode": {
    "name": "ipython",
    "version": 3
   },
   "file_extension": ".py",
   "mimetype": "text/x-python",
   "name": "python",
   "nbconvert_exporter": "python",
   "pygments_lexer": "ipython3",
   "version": "3.9.12"
  }
 },
 "nbformat": 4,
 "nbformat_minor": 5
}
