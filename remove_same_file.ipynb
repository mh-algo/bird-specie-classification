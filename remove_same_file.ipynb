{
 "cells": [
  {
   "cell_type": "code",
   "execution_count": 44,
   "id": "473e412a",
   "metadata": {},
   "outputs": [],
   "source": [
    "import os\n",
    "import hashlib"
   ]
  },
  {
   "cell_type": "code",
   "execution_count": 53,
   "id": "d9d90061",
   "metadata": {},
   "outputs": [],
   "source": [
    "path = './image crawling/Vega gull/'\n",
    "files = os.listdir(path)\n",
    "hash_set = set()"
   ]
  },
  {
   "cell_type": "code",
   "execution_count": 54,
   "id": "9c60f5cd",
   "metadata": {},
   "outputs": [
    {
     "name": "stdout",
     "output_type": "stream",
     "text": [
      "remove file: 1130.jpg\n",
      "remove file: 1135.jpg\n",
      "remove file: 248.jpg\n",
      "remove file: 317.jpg\n",
      "remove file: 329.jpg\n",
      "remove file: 386.jpg\n",
      "remove file: 418.jpg\n",
      "remove file: 50.jpg\n",
      "remove file: 500.jpg\n",
      "remove file: 513.jpg\n",
      "remove file: 535.jpg\n",
      "remove file: 613.jpg\n",
      "remove file: 643.jpg\n",
      "remove file: 644.jpg\n",
      "remove file: 667.jpg\n",
      "remove file: 683.jpg\n",
      "remove file: 706.jpg\n",
      "remove file: 744.jpg\n",
      "remove file: 784.jpg\n",
      "remove file: 790.jpg\n",
      "remove file: 809.jpg\n",
      "remove file: 818.jpg\n",
      "remove file: 852.jpg\n",
      "remove file: 863.jpg\n",
      "remove file: 875.jpg\n",
      "remove file: 898.jpg\n",
      "remove file: 900.jpg\n",
      "remove file: 915.jpg\n",
      "remove file: 92.jpg\n",
      "remove file: 95.jpg\n",
      "remove file: 951.jpg\n",
      "\n",
      "원래 이미지 수:  1164\n",
      "삭제 후 이미지 수:  1133\n"
     ]
    }
   ],
   "source": [
    "for file in files:\n",
    "    f = open(path+file, 'rb')\n",
    "    sha_256 = hashlib.sha256(f.read()).hexdigest()\n",
    "    f.close()\n",
    "    if sha_256 not in hash_set:\n",
    "        hash_set.add(sha_256)\n",
    "    else:\n",
    "        os.remove(path+file)\n",
    "        print(f'remove file: {file}')\n",
    "print()\n",
    "print('원래 이미지 수: ', len(files))\n",
    "print('삭제 후 이미지 수: ', len(os.listdir(path)))"
   ]
  },
  {
   "cell_type": "code",
   "execution_count": null,
   "id": "38d48590",
   "metadata": {},
   "outputs": [],
   "source": []
  }
 ],
 "metadata": {
  "kernelspec": {
   "display_name": "Python 3 (ipykernel)",
   "language": "python",
   "name": "python3"
  },
  "language_info": {
   "codemirror_mode": {
    "name": "ipython",
    "version": 3
   },
   "file_extension": ".py",
   "mimetype": "text/x-python",
   "name": "python",
   "nbconvert_exporter": "python",
   "pygments_lexer": "ipython3",
   "version": "3.9.12"
  }
 },
 "nbformat": 4,
 "nbformat_minor": 5
}
